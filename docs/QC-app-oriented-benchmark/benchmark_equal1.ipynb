{
 "cells": [
  {
   "cell_type": "markdown",
   "id": "f2307111",
   "metadata": {},
   "source": [
    "# QED-C Application-Oriented Quantum Computing Benchmarks\n",
    "\n",
    "## Overview\n",
    "\n",
    "This notebook implements and executes the comprehensive benchmark suite defined by the Quantum Economic Development Consortium (QED-C) Technical Advisory Committee on Standards and Benchmarks. The benchmarks are based on the QC-App-Oriented-Benchmarks project available at:\n",
    "\n",
    "https://github.com/SRI-International/QC-App-Oriented-Benchmarks\n",
    "\n",
    "## Purpose and Scope\n",
    "\n",
    "The QED-C Application-Oriented Benchmarks represent a standardized approach to evaluating quantum computing platforms through realistic quantum algorithms and applications. Unlike gate-level or circuit-level benchmarks, these application-oriented benchmarks focus on:\n",
    "\n",
    "- **Real-world quantum algorithms**: Each benchmark implements a complete quantum algorithm with practical applications\n",
    "- **End-to-end performance**: Measuring not just gate fidelity but overall algorithmic success\n",
    "- **Scalability assessment**: Testing algorithms across different qubit counts to understand scaling behavior\n",
    "- **Platform comparison**: Providing standardized metrics for comparing different quantum computing platforms\n",
    "\n",
    "## Benchmark Categories\n",
    "\n",
    "This notebook includes implementations of the following quantum algorithms:\n",
    "\n",
    "### Core Quantum Algorithms\n",
    "1. **Deutsch-Jozsa Algorithm**: Determines if a function is constant or balanced with quantum speedup\n",
    "2. **Bernstein-Vazirani Algorithm**: Finds a hidden bit string with a single query\n",
    "3. **Hidden Shift Algorithm**: Identifies a hidden shift in a bent function\n",
    "4. **Grover's Search Algorithm**: Provides quadratic speedup for unstructured search problems\n",
    "\n",
    "### Advanced Quantum Algorithms\n",
    "5. **Phase Estimation**: Estimates eigenvalues of unitary operators - fundamental for many quantum algorithms\n",
    "6. **Quantum Fourier Transform (QFT)**: Core subroutine for many quantum algorithms, implemented with multiple methods\n",
    "7. **Amplitude Estimation**: Quadratic speedup for Monte Carlo-style amplitude estimation\n",
    "8. **Monte Carlo Sampling**: Quantum advantage for certain sampling problems\n",
    "\n",
    "### Quantum Simulation and Optimization\n",
    "9. **Hamiltonian Simulation**: Simulates the time evolution of quantum systems\n",
    "10. **Variational Quantum Eigensolver (VQE)**: Hybrid quantum-classical algorithm for finding ground state energies\n",
    "11. **Shor's Algorithm**: Quantum factoring algorithm with exponential speedup\n",
    "\n",
    "## Metrics and Analysis\n",
    "\n",
    "Each benchmark generates standardized metrics including:\n",
    "\n",
    "- **Algorithmic Success Rate**: Percentage of correct algorithm outcomes\n",
    "- **Circuit Depth**: Number of sequential gate operations\n",
    "- **Gate Count**: Total number of quantum gates\n",
    "- **Execution Time**: Wall-clock time for circuit execution\n",
    "- **Fidelity Metrics**: Comparison between expected and measured quantum states\n",
    "- **Quantum Volume**: Holistic measure of quantum computer capability\n",
    "\n",
    "## Configuration and Execution\n",
    "\n",
    "The benchmarks are configured to run on Equal1's quantum computing platform with the following key parameters:\n",
    "\n",
    "- **Qubit Range**: Configurable minimum and maximum qubit counts\n",
    "- **Circuit Variations**: Multiple circuit instances per algorithm for statistical analysis\n",
    "- **Shot Count**: Number of measurement repetitions for statistical significance\n",
    "- **Hardware Target**: Specific quantum computing backend (e.g., hpc-gamma1)\n",
    "\n",
    "## Expected Outcomes\n",
    "\n",
    "Running this benchmark suite provides:\n",
    "\n",
    "1. **Platform Assessment**: Comprehensive evaluation of quantum hardware capabilities\n",
    "2. **Algorithm Performance**: Understanding of which quantum algorithms perform best on the platform\n",
    "3. **Scaling Analysis**: How performance changes with increasing problem size\n",
    "4. **Comparative Metrics**: Standardized results for comparison with other quantum platforms\n",
    "5. **Debugging Insights**: Identification of potential issues or optimization opportunities\n",
    "\n",
    "This benchmark suite serves as both a validation tool for quantum computing platforms and a research instrument for understanding the current state and limitations of quantum computing technology."
   ]
  },
  {
   "cell_type": "markdown",
   "id": "864a30a0",
   "metadata": {},
   "source": [
    "## Benchmark Configuration and Parameters\n",
    "\n",
    "This section defines the key parameters that control the execution of all benchmark algorithms. These parameters allow for systematic exploration of quantum algorithm performance across different scales and conditions.\n",
    "\n",
    "### Parameter Descriptions\n",
    "\n",
    "- **`min_qubits` & `max_qubits`**: Define the range of problem sizes to test. Each algorithm will be executed for qubit counts from minimum to maximum, allowing analysis of scaling behavior.\n",
    "\n",
    "- **`skip_qubits`**: Controls the step size between tested qubit counts. A value of 1 tests every qubit count in the range, while larger values provide coarser sampling.\n",
    "\n",
    "- **`max_circuits`**: Number of different circuit instances to generate for each algorithm and qubit count. Multiple circuits provide statistical robustness and help identify outliers.\n",
    "\n",
    "- **`num_shots`**: Number of measurement repetitions for each circuit. Higher shot counts improve statistical accuracy but increase execution time.\n",
    "\n",
    "- **`equal1_hardware`**: Specifies the target quantum computing backend. Different backends may have varying characteristics (connectivity, gate fidelities, coherence times).\n",
    "\n",
    "### Performance Considerations\n",
    "\n",
    "The chosen parameters represent a balance between:\n",
    "- **Comprehensive Coverage**: Testing sufficient qubit ranges and circuit variations\n",
    "- **Statistical Significance**: Adequate shot counts for reliable results  \n",
    "- **Execution Time**: Reasonable total benchmark runtime\n",
    "- **Resource Utilization**: Efficient use of quantum computing resources\n",
    "\n",
    "These parameters can be adjusted based on specific benchmarking goals, available quantum computing time, and desired level of statistical confidence."
   ]
  },
  {
   "cell_type": "code",
   "execution_count": 39,
   "id": "f123381e",
   "metadata": {},
   "outputs": [],
   "source": [
    "# Generic becnhmark paramters\n",
    "min_qubits = 5\n",
    "max_qubits = 5\n",
    "skip_qubits = 1\n",
    "max_circuits = 2\n",
    "num_shots = 1000\n",
    "\n",
    "equal1_hardware = \"hpc-gamma1\""
   ]
  },
  {
   "cell_type": "markdown",
   "id": "537182e5",
   "metadata": {},
   "source": [
    "## Equal1 Execution Environment Setup\n",
    "\n",
    "This section configures the execution environment specifically for Equal1's quantum computing platform. The setup includes:\n",
    "\n",
    "### Key Components\n",
    "\n",
    "1. **Equal1Executor**: Platform-specific executor that handles job submission, queue management, and result retrieval for Equal1's quantum hardware.\n",
    "\n",
    "2. **Benchmark Directory Resolution**: Automatically locates the QC-App-Oriented-Benchmarks codebase to ensure all algorithm implementations are accessible.\n",
    "\n",
    "3. **Standard Parameters**: Retrieves platform-specific configuration including backend identifiers, provider settings, and authentication parameters.\n",
    "\n",
    "### Execution Options\n",
    "\n",
    "The `exec_options` dictionary configures how quantum circuits are submitted and executed:\n",
    "- Specifies the quantum hardware target\n",
    "- Sets up authentication and access credentials  \n",
    "- Configures job priority and queue settings\n",
    "- Defines timeout and retry policies\n",
    "\n",
    "This setup ensures that all subsequent benchmark executions are properly configured for the Equal1 platform while maintaining compatibility with the standard QED-C benchmark framework."
   ]
  },
  {
   "cell_type": "code",
   "execution_count": null,
   "id": "f16f77ee",
   "metadata": {},
   "outputs": [],
   "source": [
    "# Common setup parameters\n",
    "from equal1.utils.qc_app_benchmark import Equal1Executor, get_benchmarks_dir, get_benchmark_standard_params\n",
    "\n",
    "exec_options = {\n",
    "    \"executor\" : Equal1Executor(equal1_hardware),\n",
    "}\n",
    "\n",
    "benchmarks_dir = get_benchmarks_dir()\n",
    "standard_params = get_benchmark_standard_params()\n"
   ]
  },
  {
   "cell_type": "markdown",
   "id": "f2a3a14a",
   "metadata": {},
   "source": [
    "### Deutsch-Jozsa"
   ]
  },
  {
   "cell_type": "code",
   "execution_count": null,
   "id": "7ce93842",
   "metadata": {},
   "outputs": [],
   "source": [
    "import sys\n",
    "sys.path.insert(1, f'{benchmarks_dir}/deutsch-jozsa/qiskit')\n",
    "import dj_benchmark\n",
    "dj_benchmark.run(min_qubits=min_qubits, max_qubits=max_qubits, skip_qubits=skip_qubits,\n",
    "                max_circuits=max_circuits, num_shots=num_shots,\n",
    "                backend_id=standard_params[\"backend_id\"], provider_backend=standard_params[\"provider_backend\"],\n",
    "                hub=standard_params[\"hub\"], group=standard_params[\"group\"], project=standard_params[\"project\"],\n",
    "                exec_options=exec_options)"
   ]
  },
  {
   "cell_type": "markdown",
   "id": "b8717319",
   "metadata": {},
   "source": []
  },
  {
   "cell_type": "markdown",
   "id": "0f45398f",
   "metadata": {},
   "source": [
    "### Bernstein-Vazirani - Method 1"
   ]
  },
  {
   "cell_type": "code",
   "execution_count": null,
   "id": "81104598",
   "metadata": {},
   "outputs": [],
   "source": [
    "import sys\n",
    "sys.path.insert(1, f'{benchmarks_dir}/bernstein-vazirani')\n",
    "import bv_benchmark\n",
    "bv_benchmark.run(min_qubits=min_qubits, max_qubits=max_qubits, skip_qubits=skip_qubits,\n",
    "                max_circuits=max_circuits, num_shots=num_shots,\n",
    "                method=1,\n",
    "                backend_id=standard_params[\"backend_id\"], provider_backend=standard_params[\"provider_backend\"]  ,\n",
    "                hub=standard_params[\"hub\"], group=standard_params[\"group\"], project=standard_params[\"project\"], exec_options=exec_options)"
   ]
  },
  {
   "cell_type": "markdown",
   "id": "3ea26cc2",
   "metadata": {},
   "source": [
    "### Hidden Shift"
   ]
  },
  {
   "cell_type": "code",
   "execution_count": null,
   "id": "e9836ed5",
   "metadata": {},
   "outputs": [],
   "source": [
    "import sys\n",
    "sys.path.insert(1, f'{benchmarks_dir}/hidden-shift')\n",
    "import hs_benchmark\n",
    "hs_benchmark.run(min_qubits=min_qubits, max_qubits=max_qubits,\n",
    "                max_circuits=max_circuits, num_shots=num_shots,\n",
    "                backend_id=standard_params[\"backend_id\"], provider_backend=standard_params[\"provider_backend\"],\n",
    "                hub=standard_params[\"hub\"], group=standard_params[\"group\"], project=standard_params[\"project\"], exec_options=exec_options)"
   ]
  },
  {
   "cell_type": "markdown",
   "id": "b81c0fba",
   "metadata": {},
   "source": [
    "### Grover"
   ]
  },
  {
   "cell_type": "code",
   "execution_count": null,
   "id": "582820bb",
   "metadata": {},
   "outputs": [],
   "source": [
    "import sys\n",
    "sys.path.insert(1, f'{benchmarks_dir}/grovers/qiskit')\n",
    "import grovers_benchmark\n",
    "\n",
    "grover_max_circuits = 8 if max_circuits > 8 else max_circuits\n",
    "grovers_benchmark.run(min_qubits=8, max_qubits=8, skip_qubits=skip_qubits,\n",
    "                max_circuits=grover_max_circuits, num_shots=num_shots,\n",
    "                backend_id=standard_params[\"backend_id\"], provider_backend=standard_params[\"provider_backend\"],\n",
    "                hub=standard_params[\"hub\"], group=standard_params[\"group\"], project=standard_params[\"project\"], exec_options=exec_options)"
   ]
  },
  {
   "cell_type": "markdown",
   "id": "07fa9594",
   "metadata": {},
   "source": [
    "### Phase Estimation"
   ]
  },
  {
   "cell_type": "code",
   "execution_count": null,
   "id": "8b9a1831",
   "metadata": {},
   "outputs": [],
   "source": [
    "import sys\n",
    "sys.path.insert(1, f'{benchmarks_dir}/phase-estimation')\n",
    "import pe_benchmark\n",
    "pe_benchmark.run(min_qubits=min_qubits, max_qubits=max_qubits, skip_qubits=skip_qubits,\n",
    "                max_circuits=max_circuits, num_shots=num_shots,\n",
    "                backend_id=standard_params[\"backend_id\"], provider_backend=standard_params[\"provider_backend\"],\n",
    "                hub=standard_params[\"hub\"], group=standard_params[\"group\"], project=standard_params[\"project\"], exec_options=exec_options)"
   ]
  },
  {
   "cell_type": "markdown",
   "id": "f5296d03",
   "metadata": {},
   "source": [
    "### Quantum Fourier Transform - Method 1"
   ]
  },
  {
   "cell_type": "code",
   "execution_count": null,
   "id": "67e990e8",
   "metadata": {},
   "outputs": [],
   "source": [
    "import sys\n",
    "sys.path.insert(1, f'{benchmarks_dir}/quantum-fourier-transform')\n",
    "import qft_benchmark\n",
    "qft_benchmark.run(min_qubits=min_qubits, max_qubits=max_qubits, skip_qubits=skip_qubits,\n",
    "                max_circuits=max_circuits, num_shots=num_shots,\n",
    "                method=1,\n",
    "                backend_id=standard_params[\"backend_id\"], provider_backend=standard_params[\"provider_backend\"],\n",
    "                hub=standard_params[\"hub\"], group=standard_params[\"group\"], project=standard_params[\"project\"], exec_options=exec_options)"
   ]
  },
  {
   "cell_type": "markdown",
   "id": "2905514b",
   "metadata": {},
   "source": [
    "### Quantum Fourier Transform - Method 2"
   ]
  },
  {
   "cell_type": "code",
   "execution_count": null,
   "id": "491b6dd2",
   "metadata": {},
   "outputs": [],
   "source": [
    "import sys\n",
    "sys.path.insert(1, f'{benchmarks_dir}/quantum-fourier-transform')\n",
    "import qft_benchmark\n",
    "qft_benchmark.run(min_qubits=min_qubits, max_qubits=max_qubits, skip_qubits=skip_qubits,\n",
    "                max_circuits=max_circuits, num_shots=num_shots,\n",
    "                method=2,\n",
    "                backend_id=standard_params[\"backend_id\"], provider_backend=standard_params[\"provider_backend\"],\n",
    "                hub=standard_params[\"hub\"], group=standard_params[\"group\"], project=standard_params[\"project\"], exec_options=exec_options)"
   ]
  },
  {
   "cell_type": "markdown",
   "id": "6a3450ca",
   "metadata": {},
   "source": [
    "### Amplitude Estimation"
   ]
  },
  {
   "cell_type": "code",
   "execution_count": null,
   "id": "ac4ce755",
   "metadata": {},
   "outputs": [],
   "source": [
    "import sys\n",
    "sys.path.insert(1, f'{benchmarks_dir}/phase-estimation/qiskit')\n",
    "\n",
    "sys.path.insert(1, f'{benchmarks_dir}/amplitude-estimation/qiskit')\n",
    "\n",
    "\n",
    "import ae_benchmark\n",
    "ae_benchmark.run(min_qubits=min_qubits, max_qubits=max_qubits, skip_qubits=skip_qubits,\n",
    "                max_circuits=max_circuits, num_shots=num_shots,\n",
    "                backend_id=standard_params[\"backend_id\"], provider_backend=standard_params[\"provider_backend\"],\n",
    "                hub=standard_params[\"hub\"], group=standard_params[\"group\"], project=standard_params[\"project\"], exec_options=exec_options)\n",
    "\n"
   ]
  },
  {
   "cell_type": "markdown",
   "id": "5d5656ef",
   "metadata": {},
   "source": [
    "### Monte Carlo"
   ]
  },
  {
   "cell_type": "code",
   "execution_count": null,
   "id": "3fb54233",
   "metadata": {},
   "outputs": [],
   "source": [
    "import sys\n",
    "sys.path.insert(1, f'{benchmarks_dir}/monte-carlo/qiskit')\n",
    "sys.path.insert(1, f'{benchmarks_dir}/monte-carlo/_common')\n",
    "import mc_benchmark\n",
    "mc_benchmark.run(min_qubits=min_qubits, max_qubits=max_qubits, skip_qubits=skip_qubits,\n",
    "                max_circuits=max_circuits, num_shots=num_shots,\n",
    "                backend_id=standard_params[\"backend_id\"], provider_backend=standard_params[\"provider_backend\"],\n",
    "                hub=standard_params[\"hub\"], group=standard_params[\"group\"], project=standard_params[\"project\"], exec_options=exec_options)"
   ]
  },
  {
   "cell_type": "markdown",
   "id": "7b9397ea",
   "metadata": {},
   "source": [
    "### Hamiltonian Simulation - Method 1 "
   ]
  },
  {
   "cell_type": "code",
   "execution_count": null,
   "id": "4ccfcaa3",
   "metadata": {},
   "outputs": [],
   "source": [
    "import sys\n",
    "sys.path.insert(1, f'{benchmarks_dir}/hamiltonian-simulation/qiskit')\n",
    "import hamiltonian_simulation_benchmark\n",
    "hamiltonian_simulation_benchmark.run(min_qubits=min_qubits, max_qubits=max_qubits, skip_qubits=skip_qubits,\n",
    "                max_circuits=max_circuits, num_shots=num_shots,\n",
    "                method=1,\n",
    "                backend_id=standard_params[\"backend_id\"], provider_backend=standard_params[\"provider_backend\"],\n",
    "                hub=standard_params[\"hub\"], group=standard_params[\"group\"], project=standard_params[\"project\"], exec_options=exec_options)"
   ]
  },
  {
   "cell_type": "markdown",
   "id": "f52c7e24",
   "metadata": {},
   "source": [
    "### Hamiltonian Simulation - Method 2 "
   ]
  },
  {
   "cell_type": "code",
   "execution_count": null,
   "id": "d0cf9b6f",
   "metadata": {},
   "outputs": [],
   "source": [
    "import sys\n",
    "sys.path.insert(1, f'{benchmarks_dir}/hamiltonian-simulation/qiskit')\n",
    "import hamiltonian_simulation_benchmark\n",
    "hamiltonian_simulation_benchmark.run(min_qubits=min_qubits, max_qubits=max_qubits, skip_qubits=skip_qubits,\n",
    "                max_circuits=max_circuits, num_shots=num_shots,\n",
    "                method=2,\n",
    "                backend_id=standard_params[\"backend_id\"], provider_backend=standard_params[\"provider_backend\"],\n",
    "                hub=standard_params[\"hub\"], group=standard_params[\"group\"], project=standard_params[\"project\"], exec_options=exec_options)"
   ]
  },
  {
   "cell_type": "markdown",
   "id": "65a88976",
   "metadata": {},
   "source": [
    "### VQE - Method 1"
   ]
  },
  {
   "cell_type": "code",
   "execution_count": null,
   "id": "22701460",
   "metadata": {},
   "outputs": [],
   "source": [
    "import sys\n",
    "sys.path.insert(1, f'{benchmarks_dir}/vqe/qiskit')\n",
    "import vqe_benchmark\n",
    "vqe_num_shots=4098\n",
    "vqe_benchmark.run(min_qubits=min_qubits, max_qubits=max_qubits,\n",
    "                max_circuits=max_circuits, num_shots=vqe_num_shots,\n",
    "                method=1,\n",
    "                backend_id=standard_params[\"backend_id\"], provider_backend=standard_params[\"provider_backend\"],\n",
    "                hub=standard_params[\"hub\"], group=standard_params[\"group\"], project=standard_params[\"project\"], exec_options=exec_options)"
   ]
  },
  {
   "cell_type": "markdown",
   "id": "8841890f",
   "metadata": {},
   "source": [
    "### Shor - Method 1"
   ]
  },
  {
   "cell_type": "code",
   "execution_count": null,
   "id": "5315bb43",
   "metadata": {},
   "outputs": [],
   "source": [
    "import sys\n",
    "sys.path.insert(1, f'{benchmarks_dir}/shors/qiskit')\n",
    "sys.path.insert(1, f'{benchmarks_dir}/shors/_common')\n",
    "\n",
    "import shors_benchmark\n",
    "shors_benchmark.run(min_qubits=min_qubits, max_qubits=max_qubits, max_circuits=1, num_shots=num_shots,\n",
    "                method=1,\n",
    "                backend_id=standard_params[\"backend_id\"], provider_backend=standard_params[\"provider_backend\"],\n",
    "                hub=standard_params[\"hub\"], group=standard_params[\"group\"], project=standard_params[\"project\"], exec_options=exec_options)"
   ]
  },
  {
   "cell_type": "markdown",
   "id": "0aad41a6",
   "metadata": {},
   "source": [
    "### Shor - Method 2"
   ]
  },
  {
   "cell_type": "code",
   "execution_count": null,
   "id": "28b6a513",
   "metadata": {},
   "outputs": [],
   "source": [
    "import sys\n",
    "sys.path.insert(1, f'{benchmarks_dir}/shors/qiskit')\n",
    "sys.path.insert(1, f'{benchmarks_dir}/shors/_common')\n",
    "\n",
    "import shors_benchmark\n",
    "shors_benchmark.run(min_qubits=min_qubits, max_qubits=max_qubits, max_circuits=1, num_shots=num_shots,\n",
    "                method=2,\n",
    "                backend_id=standard_params[\"backend_id\"], provider_backend=standard_params[\"provider_backend\"],\n",
    "                hub=standard_params[\"hub\"], group=standard_params[\"group\"], project=standard_params[\"project\"], exec_options=exec_options)"
   ]
  },
  {
   "cell_type": "markdown",
   "id": "31a172b9",
   "metadata": {},
   "source": [
    "### Close session\n",
    "IMPORTANT: This cell is provided as a way to close an active session if for some reason the benchmarks abort abnormally.\n",
    "If so, execute the close_session function manually to terminate an open session. Normally, this is done automatically."
   ]
  },
  {
   "cell_type": "code",
   "execution_count": null,
   "id": "2c5fffba",
   "metadata": {},
   "outputs": [],
   "source": [
    "import sys\n",
    "sys.path.insert(1, \"_common\")\n",
    "import execute as ex\n",
    "\n",
    "ex.close_session()"
   ]
  },
  {
   "cell_type": "code",
   "execution_count": null,
   "id": "1e55741c",
   "metadata": {},
   "outputs": [],
   "source": [
    "import sys\n",
    "sys.path.insert(1, \"_common\")\n",
    "import metrics\n",
    "\n",
    "\n",
    "metrics.plot_all_app_metrics(standard_params[\"backend_id\"], do_all_plots=False, include_apps=None)"
   ]
  },
  {
   "cell_type": "markdown",
   "id": "ee6d52ec",
   "metadata": {},
   "source": [
    "### Cleanup artifacts"
   ]
  },
  {
   "cell_type": "code",
   "execution_count": 3,
   "id": "032e665e",
   "metadata": {},
   "outputs": [
    {
     "name": "stdout",
     "output_type": "stream",
     "text": [
      "Folder does not exist: /home/iszilveszter/work/equal1-benchmarking/docs/QC-app-oriented-benchmark/_data\n",
      "Folder does not exist: /home/iszilveszter/work/equal1-benchmarking/docs/QC-app-oriented-benchmark/_images\n",
      "Cleanup completed.\n"
     ]
    }
   ],
   "source": [
    "import os\n",
    "import shutil\n",
    "\n",
    "# Get the directory where this notebook is located\n",
    "notebook_dir = os.path.dirname(os.path.abspath('benchmark_equal1.ipynb'))\n",
    "\n",
    "# Define the folders to remove\n",
    "folders_to_remove = ['_data', '_images']\n",
    "\n",
    "for folder in folders_to_remove:\n",
    "    folder_path = os.path.join(notebook_dir, folder)\n",
    "    if os.path.exists(folder_path):\n",
    "        try:\n",
    "            shutil.rmtree(folder_path)\n",
    "            print(f\"Successfully removed folder: {folder_path}\")\n",
    "        except Exception as e:\n",
    "            print(f\"Error removing folder {folder_path}: {e}\")\n",
    "    else:\n",
    "        print(f\"Folder does not exist: {folder_path}\")\n",
    "\n",
    "print(\"Cleanup completed.\")"
   ]
  }
 ],
 "metadata": {
  "kernelspec": {
   "display_name": "equal1-benchmarking",
   "language": "python",
   "name": "python3"
  },
  "language_info": {
   "codemirror_mode": {
    "name": "ipython",
    "version": 3
   },
   "file_extension": ".py",
   "mimetype": "text/x-python",
   "name": "python",
   "nbconvert_exporter": "python",
   "pygments_lexer": "ipython3",
   "version": "3.13.7"
  }
 },
 "nbformat": 4,
 "nbformat_minor": 5
}
