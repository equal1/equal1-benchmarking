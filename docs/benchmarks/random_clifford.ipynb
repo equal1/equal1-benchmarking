{
 "cells": [
  {
   "cell_type": "markdown",
   "id": "b8e1660e",
   "metadata": {},
   "source": [
    "# Randomized Benchmarking"
   ]
  },
  {
   "cell_type": "markdown",
   "id": "a1c66cf3",
   "metadata": {},
   "source": [
    "Here we will show how to calculate the average Clifford gate fidelity using randomized benchmarking.\n"
   ]
  },
  {
   "cell_type": "code",
   "execution_count": null,
   "id": "42d52e8c",
   "metadata": {},
   "outputs": [],
   "source": [
    "import matplotlib.pyplot as plt\n",
    "import numpy as np\n",
    "import qiskit\n",
    "import qiskit.quantum_info as qqi\n",
    "import scipy.optimize\n",
    "from qbraid import QbraidProvider\n",
    "\n",
    "from equal1_demo import qbraid_helper"
   ]
  },
  {
   "cell_type": "markdown",
   "id": "489c6156",
   "metadata": {},
   "source": [
    "We will use the qiskit Quantum information library to build up random Clifford benchmarking circuits.\n",
    "In random Clifford Benchmarking we uniformly at random sample a sequence of Clifford gates $(C_1, C_2, C_3, \\ldots, C_d)$\n",
    "The idea is to apply this sequence of Clifford gates followed by an additional gate $C_{d+1}$ which inverts the action of the previous gates $I = C_{d+1} . \\Pi_{i}^{d} C_i$ . \n",
    "If the initial state was $\\ket{0}$ then the final state in a noiseless system should be $P(\\ket{0}) = 1.0$. \n",
    "Instead as the sequences of gates get longer, $d$, the effect of noise causes a decay of the value of $P(\\ket{0})$, the rate of this decay characterizes the average error per clifford gate. \n",
    "\n",
    "* https://arxiv.org/abs/1009.3639\n",
    "* https://arxiv.org/abs/1109.6887\n",
    "\n",
    "Each Clifford gate can be implemented by a subset of Clifford gates, Qiskit uses $X$, $Z$, $H$, $S$, $S^\\dagger$.\n"
   ]
  },
  {
   "cell_type": "code",
   "execution_count": null,
   "id": "d5f92010",
   "metadata": {},
   "outputs": [],
   "source": [
    "a_random_clifford = qqi.random_clifford(1, seed=39)\n",
    "random_clifford_gates = a_random_clifford.to_circuit()\n",
    "random_clifford_gates.draw(\"mpl\")"
   ]
  },
  {
   "cell_type": "markdown",
   "id": "65c44849",
   "metadata": {},
   "source": [
    "We will now define a function that will build a benchmarking circuit for a given qubit and depth."
   ]
  },
  {
   "cell_type": "code",
   "execution_count": null,
   "id": "e717a95a",
   "metadata": {},
   "outputs": [],
   "source": [
    "circuit_meta[1]"
   ]
  },
  {
   "cell_type": "code",
   "execution_count": null,
   "id": "67f5c729",
   "metadata": {},
   "outputs": [],
   "source": [
    "circuits[1].draw(\"mpl\")"
   ]
  },
  {
   "cell_type": "markdown",
   "id": "8026927f",
   "metadata": {},
   "source": [
    "Now we want to run the circuit on the device:"
   ]
  },
  {
   "cell_type": "code",
   "execution_count": null,
   "id": "1b06bac9",
   "metadata": {},
   "outputs": [],
   "source": [
    "provider = QbraidProvider()\n",
    "device = \"equal1_simulator\"\n",
    "noise_model = \"bell1-6\"\n",
    "device = provider.get_device(device)\n",
    "device.profile.model_dump()\n"
   ]
  },
  {
   "cell_type": "markdown",
   "id": "be7da7b2",
   "metadata": {},
   "source": [
    "The Equal1 compiler will take a benchmarking circuit such as this, however, it tries to simplify the circuit. \n",
    "The benchmarking sequence has the property that $I = C_{d+1} . \\Pi_{i}^{d} C_i$  and so the compiler will simplify it to a circuit with no gates! \n",
    "\n",
    "We can see this by setting `optimization_level=1`. "
   ]
  },
  {
   "cell_type": "code",
   "execution_count": null,
   "id": "9df1fd97",
   "metadata": {},
   "outputs": [],
   "source": [
    "result, compiled = qbraid_helper.run_circuit(\n",
    "    circuits[1],\n",
    "    device,\n",
    "    shots=shots,\n",
    "    noise_model=noise_model,\n",
    "    optimization_level=1,\n",
    "    simulation_platform=\"CPU\",\n",
    "    get_probabilities=True,\n",
    "    return_transpiled_circuits=True\n",
    ")\n"
   ]
  },
  {
   "cell_type": "code",
   "execution_count": null,
   "id": "53a2b491",
   "metadata": {},
   "outputs": [],
   "source": [
    "compiled[0].draw(\"mpl\", scale=0.7, fold=100)\n"
   ]
  },
  {
   "cell_type": "markdown",
   "id": "ab055ee4",
   "metadata": {},
   "source": [
    "We will need to set the compiler optimization level to be 0, this will convert the gates to our native gate set ${R_x(\\frac{\\pi}{2}), R_z(\\theta), CZ}$, but will not attempt to simplify the circuit. "
   ]
  },
  {
   "cell_type": "code",
   "execution_count": null,
   "id": "03ca4359",
   "metadata": {},
   "outputs": [],
   "source": [
    "print(f\"Sending {len(circuits)} circuits to the device...\")\n",
    "results = qbraid_helper.run_circuit(\n",
    "    circuits,\n",
    "    device,\n",
    "    shots=shots,\n",
    "    noise_model=noise_model,\n",
    "    optimization_level=0, # prevent compiler from simplifying the circuit to nothing\n",
    "    simulation_platform=\"CPU\",\n",
    "    get_probabilities=True,\n",
    ")\n"
   ]
  },
  {
   "cell_type": "code",
   "execution_count": null,
   "id": "f5ebd48a",
   "metadata": {},
   "outputs": [],
   "source": [
    "results[:5]"
   ]
  },
  {
   "cell_type": "code",
   "execution_count": null,
   "id": "bf3f7fa8",
   "metadata": {},
   "outputs": [],
   "source": [
    "n_reps = len({m[\"repetition\"] for m in circuit_meta})\n",
    "n_depths = len({m[\"depth\"] for m in circuit_meta})\n",
    "probabilities = np.zeros((n_reps, n_depths), dtype=float)\n",
    "\n",
    "for result, meta in zip(results, circuit_meta):\n",
    "    probabilities[meta[\"repetition\"], meta[\"depth_index\"]] = result.get(\"0\", 0)\n"
   ]
  },
  {
   "cell_type": "code",
   "execution_count": null,
   "id": "1a688b5b",
   "metadata": {},
   "outputs": [],
   "source": [
    "mean_probability = probabilities.mean(axis=0)"
   ]
  },
  {
   "cell_type": "code",
   "execution_count": null,
   "id": "8a25ff17",
   "metadata": {},
   "outputs": [],
   "source": [
    "fig, ax = plt.subplots(1, 1)\n",
    "\n",
    "ax.plot(depths, probabilities.T, marker=\"o\", linestyle=\"none\")\n",
    "ax.plot(depths, mean_probability)\n",
    "ax.set_xlabel(\"Circuit Depth\")"
   ]
  },
  {
   "cell_type": "code",
   "execution_count": null,
   "id": "97b0c27c",
   "metadata": {},
   "outputs": [],
   "source": [
    "def decay_curve(m, A, alpha, B=0):\n",
    "    return A * (alpha**m) + B\n"
   ]
  },
  {
   "cell_type": "code",
   "execution_count": null,
   "id": "5b5da821",
   "metadata": {},
   "outputs": [],
   "source": [
    "fit = scipy.optimize.curve_fit(\n",
    "    decay_curve,\n",
    "    depths,\n",
    "    mean_probability,\n",
    "    p0=[0.99, 0.1, 0.5],\n",
    ")[0][1]\n",
    "\n",
    "print(f\"Average Clifford gate fidelity on qubit {qubit_to_benchmark} = {fit}\")\n"
   ]
  }
 ],
 "metadata": {
  "kernelspec": {
   "display_name": "equal1-qbraid-demo",
   "language": "python",
   "name": "python3"
  },
  "language_info": {
   "codemirror_mode": {
    "name": "ipython",
    "version": 3
   },
   "file_extension": ".py",
   "mimetype": "text/x-python",
   "name": "python",
   "nbconvert_exporter": "python",
   "pygments_lexer": "ipython3",
   "version": "3.13.1"
  }
 },
 "nbformat": 4,
 "nbformat_minor": 5
}
