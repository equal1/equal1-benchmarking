{
 "cells": [
  {
   "cell_type": "markdown",
   "id": "3754209f",
   "metadata": {},
   "source": [
    "# GHZ state preparation"
   ]
  },
  {
   "cell_type": "code",
   "execution_count": null,
   "id": "8be6a561",
   "metadata": {},
   "outputs": [],
   "source": [
    "import qiskit\n",
    "# from equal1.benchmarking import qiskit_wrapper\n",
    "# from equal1.benchmarking import qbraid_wrapper\n",
    "# import qiskit.circuit\n",
    "import matplotlib.pyplot as plt\n",
    "import numpy as np\n",
    "from equal1.benchmarking.algorithms.ghzstate import GHZStateIndividual \n",
    "import pandas as pd\n",
    "import seaborn as sns"
   ]
  },
  {
   "cell_type": "code",
   "execution_count": null,
   "id": "6c7a5912",
   "metadata": {},
   "outputs": [],
   "source": [
    "import qbraid\n",
    "provider = qbraid.QbraidProvider()\n",
    "device = \"equal1_simulator\"\n",
    "device = provider.get_device(device)\n",
    "device.profile.model_dump()\n",
    "\n"
   ]
  },
  {
   "cell_type": "markdown",
   "id": "b4e9c2ec",
   "metadata": {},
   "source": []
  },
  {
   "cell_type": "code",
   "execution_count": null,
   "id": "797827e0",
   "metadata": {},
   "outputs": [],
   "source": [
    "hardware = {'hpc-conservative':\"Current Device extrapolated\", 'hpc-gamma1': \"32 Qubit QPU\", 'hpc-gamma2': \"167 Qubit QPU\"}\n"
   ]
  },
  {
   "cell_type": "markdown",
   "id": "bf5eae90",
   "metadata": {},
   "source": []
  },
  {
   "cell_type": "code",
   "execution_count": null,
   "id": "8ca69894",
   "metadata": {},
   "outputs": [],
   "source": [
    "# all_experiments = [GHZStateIndividual(n_qubits=q, device_name=\"bell2-17-gen-preview\") for q in range(2, 9, 2)]\n",
    "all_experiments = [GHZStateIndividual(n_qubits=q, device_name=device_name) for q in range(2, 17, 2) for device_name in hardware.keys()]\n",
    "# all_experiments = [GHZStateIndividual(n_qubits=q, device_name=device_name) for q in range(2, 9, 2) for device_name in hardware.keys()]\n",
    "results  = []\n",
    "for individual in all_experiments:\n",
    "    individual.run(simulate=True,  runtime_options={\"backend\":\"TensorNet_MPS\", \"simulation_platform\":\"GPU\"})\n",
    "    individual.collect_results()\n",
    "    fid = individual.analyse_results()\n",
    "    row = {\"n_qubits\": individual.n_qubits, \"device\": individual.device_name, \"fidelity\": fid}\n",
    "    print(f\"Running for {individual.n_qubits} qubits, device={individual.device_name} results: {fid}\")\n",
    "    results.append(row)\n",
    "\n",
    "\n",
    "df = pd.DataFrame.from_dict(results)\n",
    "df.to_csv(\"ghz_state.csv\")\n"
   ]
  },
  {
   "cell_type": "code",
   "execution_count": null,
   "id": "a3796bc6",
   "metadata": {},
   "outputs": [],
   "source": [
    "fig, ax = plt.subplots(figsize=(6, 6))\n",
    "df[\"label\"] = df[\"device\"].map(hardware)\n",
    "\n",
    "sns.lineplot(data=df, x=\"n_qubits\", y=\"fidelity\", hue=\"label\", marker=\"o\", ax=ax)\n",
    "ax.axhline(0.5, ls='--', color='red')\n",
    "ax.set_ylabel(\"GHZ Fidelity\")\n",
    "ax.legend(title=\"Simulated Devices\")\n",
    "\n",
    "ax.set_xlabel(\"Number of Qubits\")\n",
    "ax.set_title(\"GHZ State Fidelity vs Number of Qubits\")"
   ]
  },
  {
   "cell_type": "code",
   "execution_count": null,
   "id": "67f5f601",
   "metadata": {},
   "outputs": [],
   "source": []
  }
 ],
 "metadata": {
  "kernelspec": {
   "display_name": "equal1-benchmarking",
   "language": "python",
   "name": "python3"
  },
  "language_info": {
   "codemirror_mode": {
    "name": "ipython",
    "version": 3
   },
   "file_extension": ".py",
   "mimetype": "text/x-python",
   "name": "python",
   "nbconvert_exporter": "python",
   "pygments_lexer": "ipython3",
   "version": "3.13.1"
  }
 },
 "nbformat": 4,
 "nbformat_minor": 5
}
