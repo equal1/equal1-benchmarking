{
 "cells": [
  {
   "cell_type": "markdown",
   "id": "bfb1cf4b",
   "metadata": {},
   "source": [
    "# Gate Fidelity Benchmarking"
   ]
  },
  {
   "cell_type": "code",
   "execution_count": null,
   "id": "f620b066",
   "metadata": {},
   "outputs": [],
   "source": [
    "import matplotlib.pyplot as plt\n",
    "from equal1.benchmarking.device_characterization.gate_fidelity import Gate2qFidelity\n",
    "import pandas as pd\n",
    "import seaborn as sns\n",
    "from rich import progress\n",
    "import itertools"
   ]
  },
  {
   "cell_type": "code",
   "execution_count": null,
   "id": "5ec272d8",
   "metadata": {},
   "outputs": [],
   "source": [
    "hardware = {\n",
    "    \"hpc-conservative\",\n",
    "    \"hpc-gamma1\",\n",
    "    \"hpc-gamma2\",\n",
    "}\n",
    "num_qubits = 16"
   ]
  },
  {
   "cell_type": "markdown",
   "id": "9dbbe980",
   "metadata": {},
   "source": [
    "## Two-Qubit Gates Fidelity"
   ]
  },
  {
   "cell_type": "code",
   "execution_count": null,
   "id": "c55376a4",
   "metadata": {},
   "outputs": [],
   "source": [
    "gates_to_benchmark = [\"cz\"]\n",
    "\n",
    "experiments = [\n",
    "    Gate2qFidelity(device_name=hw, qubit_pair=(q1, q2), gate_to_benchmark=g)\n",
    "    for hw in hardware\n",
    "    for q1, q2 in itertools.combinations(range(num_qubits), 2)\n",
    "    for g in gates_to_benchmark\n",
    "]"
   ]
  },
  {
   "cell_type": "code",
   "execution_count": null,
   "id": "07fa1f5c",
   "metadata": {},
   "outputs": [],
   "source": [
    "results = []\n",
    "\n",
    "\n",
    "for experiment in progress.track(\n",
    "    experiments,\n",
    "    description=\"Running Experiments\",\n",
    "    auto_refresh=False,\n",
    "):\n",
    "    experiment.run(\n",
    "        simulate=True,\n",
    "        runtime_options={\n",
    "            \"backend\": \"TensorNet_MPS\",\n",
    "            \"simulation_platform\": \"GPU\",\n",
    "        },\n",
    "    )\n",
    "\n",
    "    fidelity = experiment.analyse_results()\n",
    "\n",
    "    results.append(\n",
    "        {\n",
    "            \"device\": experiment.device_name,\n",
    "            \"qubit_0\": experiment.qubits_to_test[0],\n",
    "            \"qubit_1\": experiment.qubits_to_test[1],\n",
    "            \"gate_name\": experiment.gate_to_benchmark.name,\n",
    "            \"fidelity\": fidelity,\n",
    "        }\n",
    "    )\n"
   ]
  },
  {
   "cell_type": "code",
   "execution_count": null,
   "id": "3611ab06",
   "metadata": {},
   "outputs": [],
   "source": [
    "df = pd.DataFrame(results)\n",
    "df[\"qubit_pair\"] = df[\"qubit_0\"].astype(str) + \"-\" + df[\"qubit_1\"].astype(str)\n",
    "df.to_csv(\"two_qubit_gate_fidelity_results.csv\", index=False)"
   ]
  },
  {
   "cell_type": "code",
   "execution_count": null,
   "id": "4cdce8e6",
   "metadata": {},
   "outputs": [],
   "source": [
    "for device in df[\"device\"].unique():\n",
    "    fig, ax = plt.subplots(figsize=(24, 6))\n",
    "    sns.barplot(\n",
    "        data=df[df[\"device\"] == device],\n",
    "        x=\"qubit_pair\",\n",
    "        hue=\"gate_name\",\n",
    "        y=\"fidelity\",\n",
    "        ax=ax,\n",
    "    )\n",
    "    ax.set_ylabel(\"Gate Fidelity\")\n",
    "    ax.set_xlabel(\"Qubit Pair\")\n",
    "    for container in ax.containers:\n",
    "        ax.bar_label(container, fmt=\"%.5f\")\n",
    "    ax.set_title(f\"Two Qubit Gate Fidelity on {device}\")\n",
    "    plt.show()"
   ]
  }
 ],
 "metadata": {
  "kernelspec": {
   "display_name": "equal1-benchmarking",
   "language": "python",
   "name": "python3"
  },
  "language_info": {
   "codemirror_mode": {
    "name": "ipython",
    "version": 3
   },
   "file_extension": ".py",
   "mimetype": "text/x-python",
   "name": "python",
   "nbconvert_exporter": "python",
   "pygments_lexer": "ipython3",
   "version": "3.13.8"
  }
 },
 "nbformat": 4,
 "nbformat_minor": 5
}
