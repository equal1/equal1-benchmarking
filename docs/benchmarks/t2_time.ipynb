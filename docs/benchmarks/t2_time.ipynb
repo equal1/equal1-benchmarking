{
 "cells": [
  {
   "cell_type": "markdown",
   "id": "eefa6199",
   "metadata": {},
   "source": [
    "#  T1 and T2 Time"
   ]
  },
  {
   "cell_type": "code",
   "execution_count": null,
   "id": "b8e1190e",
   "metadata": {},
   "outputs": [],
   "source": [
    "import matplotlib.pyplot as plt\n",
    "from equal1.benchmarking.device_characterization import thermal_noise\n",
    "import pandas as pd\n",
    "import seaborn as sns\n",
    "from rich import progress"
   ]
  },
  {
   "cell_type": "code",
   "execution_count": null,
   "id": "6b8ad53e",
   "metadata": {},
   "outputs": [],
   "source": [
    "hardware = [\n",
    "    \"hpc-conservative\",\n",
    "    \"hpc-gamma1\",\n",
    "]\n",
    "num_qubits = 16"
   ]
  },
  {
   "cell_type": "code",
   "execution_count": null,
   "id": "869d8c39",
   "metadata": {},
   "outputs": [],
   "source": [
    "\n",
    "all_experiments_t2 = [\n",
    "    thermal_noise.ThermalNoiseT2Ramsey(device_name=device, qubit_idx=qubit)\n",
    "    for device in hardware\n",
    "    for qubit in range(num_qubits)\n",
    "]"
   ]
  },
  {
   "cell_type": "code",
   "execution_count": null,
   "id": "e46c09da",
   "metadata": {},
   "outputs": [],
   "source": [
    "results = []\n",
    "\n",
    "for t2_experiment in progress.track(all_experiments_t2):\n",
    "\n",
    "    t2_experiment.run(\n",
    "        simulate=True,\n",
    "    )\n",
    "    t2 = t2_experiment.analyse_results()\n",
    "\n",
    "    results.append(\n",
    "        {\n",
    "            \"device\": t2_experiment.device_name,\n",
    "            \"qubit_idx\": t2_experiment.qubit_idx,\n",
    "            \"t2\": t2,\n",
    "        }\n",
    "    )"
   ]
  },
  {
   "cell_type": "code",
   "execution_count": null,
   "id": "2fd0e068",
   "metadata": {},
   "outputs": [],
   "source": [
    "df = pd.DataFrame(results)\n",
    "df.to_csv(\"t2_results.csv\", index=False)"
   ]
  },
  {
   "cell_type": "code",
   "execution_count": null,
   "id": "cf12de01",
   "metadata": {},
   "outputs": [],
   "source": [
    "fig, ax = plt.subplots(figsize=(24, 6))\n",
    "sns.barplot(data=df, x=\"qubit_idx\", hue=\"device\", y=\"t2\", ax=ax)\n",
    "ax.set_title(\"T2 Time by Qubit\")\n",
    "ax.set_ylabel(\"T2 Time (s)\")\n",
    "ax.set_xlabel(\"Qubit Index\")"
   ]
  }
 ],
 "metadata": {
  "kernelspec": {
   "display_name": "equal1-benchmarking",
   "language": "python",
   "name": "python3"
  },
  "language_info": {
   "codemirror_mode": {
    "name": "ipython",
    "version": 3
   },
   "file_extension": ".py",
   "mimetype": "text/x-python",
   "name": "python",
   "nbconvert_exporter": "python",
   "pygments_lexer": "ipython3",
   "version": "3.13.1"
  }
 },
 "nbformat": 4,
 "nbformat_minor": 5
}
