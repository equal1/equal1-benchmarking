{
 "cells": [
  {
   "cell_type": "markdown",
   "id": "eefa6199",
   "metadata": {},
   "source": [
    "#  T1 and T2 times"
   ]
  },
  {
   "cell_type": "code",
   "execution_count": 1,
   "id": "b8e1190e",
   "metadata": {},
   "outputs": [],
   "source": [
    "import matplotlib.pyplot as plt\n",
    "from equal1.benchmarking.device_characterization import thermal_noise\n",
    "import pandas as pd\n",
    "import seaborn as sns\n",
    "from tqdm import tqdm"
   ]
  },
  {
   "cell_type": "code",
   "execution_count": 2,
   "id": "6b8ad53e",
   "metadata": {},
   "outputs": [],
   "source": [
    "hardware = {\n",
    "    \"hpc-conservative\": 32,\n",
    "    \"hpc-gamma1\": 32,\n",
    "    \"hpc-gamma2\": 32,\n",
    "}"
   ]
  },
  {
   "cell_type": "code",
   "execution_count": 3,
   "id": "869d8c39",
   "metadata": {},
   "outputs": [],
   "source": [
    "all_experiments_t1 = [\n",
    "    thermal_noise.IdleNoiseT1(device_name=device, qubit_idx=qubit)\n",
    "    for device, num_qubits in hardware.items()\n",
    "    for qubit in range(num_qubits)\n",
    "]\n",
    "\n",
    "all_experiments_t2 = [\n",
    "    thermal_noise.ThermalNoiseT2Ramsey(device_name=device, qubit_idx=qubit)\n",
    "    for device, num_qubits in hardware.items()\n",
    "    for qubit in range(num_qubits)\n",
    "]"
   ]
  },
  {
   "cell_type": "code",
   "execution_count": null,
   "id": "e46c09da",
   "metadata": {},
   "outputs": [
    {
     "name": "stderr",
     "output_type": "stream",
     "text": [
      "0it [00:00, ?it/s]/home/ninjaforest/equal1/equal1-benchmarking/.venv/lib/python3.13/site-packages/qbraid/runtime/native/provider.py:155: RuntimeWarning: The default runtime configuration for device 'equal1_simulator' includes transpilation to program type 'cudaq', which is not registered.\n",
      "  warnings.warn(\n",
      "0it [00:26, ?it/s]\n"
     ]
    },
    {
     "ename": "KeyboardInterrupt",
     "evalue": "",
     "output_type": "error",
     "traceback": [
      "\u001b[31m---------------------------------------------------------------------------\u001b[39m",
      "\u001b[31mKeyboardInterrupt\u001b[39m                         Traceback (most recent call last)",
      "\u001b[36mCell\u001b[39m\u001b[36m \u001b[39m\u001b[32mIn[4]\u001b[39m\u001b[32m, line 4\u001b[39m\n\u001b[32m      1\u001b[39m results = []\n\u001b[32m      3\u001b[39m \u001b[38;5;28;01mfor\u001b[39;00m t1_experiment, t2_experiment \u001b[38;5;129;01min\u001b[39;00m tqdm(\u001b[38;5;28mzip\u001b[39m(all_experiments_t1, all_experiments_t2)):\n\u001b[32m----> \u001b[39m\u001b[32m4\u001b[39m     \u001b[43mt1_experiment\u001b[49m\u001b[43m.\u001b[49m\u001b[43mrun\u001b[49m\u001b[43m(\u001b[49m\n\u001b[32m      5\u001b[39m \u001b[43m        \u001b[49m\u001b[43msimulate\u001b[49m\u001b[43m=\u001b[49m\u001b[38;5;28;43;01mTrue\u001b[39;49;00m\u001b[43m,\u001b[49m\n\u001b[32m      6\u001b[39m \u001b[43m        \u001b[49m\u001b[43mruntime_options\u001b[49m\u001b[43m=\u001b[49m\u001b[43m{\u001b[49m\n\u001b[32m      7\u001b[39m \u001b[43m            \u001b[49m\u001b[33;43m\"\u001b[39;49m\u001b[33;43mbackend\u001b[39;49m\u001b[33;43m\"\u001b[39;49m\u001b[43m:\u001b[49m\u001b[43m \u001b[49m\u001b[33;43m\"\u001b[39;49m\u001b[33;43mTensorNet_MPS\u001b[39;49m\u001b[33;43m\"\u001b[39;49m\u001b[43m,\u001b[49m\n\u001b[32m      8\u001b[39m \u001b[43m            \u001b[49m\u001b[33;43m\"\u001b[39;49m\u001b[33;43msimulation_platform\u001b[39;49m\u001b[33;43m\"\u001b[39;49m\u001b[43m:\u001b[49m\u001b[43m \u001b[49m\u001b[33;43m\"\u001b[39;49m\u001b[33;43mGPU\u001b[39;49m\u001b[33;43m\"\u001b[39;49m\u001b[43m,\u001b[49m\n\u001b[32m      9\u001b[39m \u001b[43m        \u001b[49m\u001b[43m}\u001b[49m\u001b[43m,\u001b[49m\n\u001b[32m     10\u001b[39m \u001b[43m    \u001b[49m\u001b[43m)\u001b[49m\n\u001b[32m     11\u001b[39m     t1 = t1_experiment.analyse_results()\n\u001b[32m     13\u001b[39m     t2_experiment.run(\n\u001b[32m     14\u001b[39m         simulate=\u001b[38;5;28;01mTrue\u001b[39;00m,\n\u001b[32m     15\u001b[39m         runtime_options={\n\u001b[32m   (...)\u001b[39m\u001b[32m     18\u001b[39m         },\n\u001b[32m     19\u001b[39m     )\n",
      "\u001b[36mFile \u001b[39m\u001b[32m~/equal1/equal1-benchmarking/src/equal1/benchmarking/experiment.py:17\u001b[39m, in \u001b[36mExperiment.run\u001b[39m\u001b[34m(self, simulate, runtime_options)\u001b[39m\n\u001b[32m     14\u001b[39m runtime_options = runtime_options \u001b[38;5;129;01mor\u001b[39;00m {}\n\u001b[32m     16\u001b[39m \u001b[38;5;28mself\u001b[39m.start_jobs(\u001b[38;5;28mself\u001b[39m.device_name, simulate, runtime_options)\n\u001b[32m---> \u001b[39m\u001b[32m17\u001b[39m \u001b[38;5;28;01mreturn\u001b[39;00m \u001b[38;5;28;43mself\u001b[39;49m\u001b[43m.\u001b[49m\u001b[43mcollect_results\u001b[49m\u001b[43m(\u001b[49m\u001b[43m)\u001b[49m\n",
      "\u001b[36mFile \u001b[39m\u001b[32m~/equal1/equal1-benchmarking/src/equal1/benchmarking/experiment.py:44\u001b[39m, in \u001b[36mExperiment.collect_results\u001b[39m\u001b[34m(self)\u001b[39m\n\u001b[32m     43\u001b[39m \u001b[38;5;28;01mdef\u001b[39;00m\u001b[38;5;250m \u001b[39m\u001b[34mcollect_results\u001b[39m(\u001b[38;5;28mself\u001b[39m):\n\u001b[32m---> \u001b[39m\u001b[32m44\u001b[39m     \u001b[38;5;28mself\u001b[39m.job_results = \u001b[43mqbraid_wrapper\u001b[49m\u001b[43m.\u001b[49m\u001b[43mget_results_from_jobs\u001b[49m\u001b[43m(\u001b[49m\u001b[38;5;28;43mself\u001b[39;49m\u001b[43m.\u001b[49m\u001b[43mjobs\u001b[49m\u001b[43m)\u001b[49m\n\u001b[32m     46\u001b[39m     \u001b[38;5;28mself\u001b[39m.distribtions = qbraid_wrapper.get_state_distribution(\n\u001b[32m     47\u001b[39m         \u001b[38;5;28mself\u001b[39m.job_results, \u001b[38;5;28mself\u001b[39m.shots, get_probabilities=\u001b[38;5;28;01mTrue\u001b[39;00m\n\u001b[32m     48\u001b[39m     )\n\u001b[32m     49\u001b[39m     \u001b[38;5;28;01mreturn\u001b[39;00m \u001b[38;5;28mself\u001b[39m.distribtions\n",
      "\u001b[36mFile \u001b[39m\u001b[32m~/equal1/equal1-benchmarking/src/equal1/benchmarking/qbraid_wrapper.py:104\u001b[39m, in \u001b[36mget_results_from_jobs\u001b[39m\u001b[34m(list_of_jobs)\u001b[39m\n\u001b[32m    102\u001b[39m results = []\n\u001b[32m    103\u001b[39m \u001b[38;5;28;01mfor\u001b[39;00m job \u001b[38;5;129;01min\u001b[39;00m list_of_jobs:\n\u001b[32m--> \u001b[39m\u001b[32m104\u001b[39m     \u001b[43mjob\u001b[49m\u001b[43m.\u001b[49m\u001b[43mwait_for_final_state\u001b[49m\u001b[43m(\u001b[49m\u001b[43m)\u001b[49m\n\u001b[32m    105\u001b[39m     \u001b[38;5;28;01mif\u001b[39;00m job.status() == qbraid.JobStatus.FAILED:\n\u001b[32m    106\u001b[39m         result_json = job.client.get_job_results(job.id)\n",
      "\u001b[36mFile \u001b[39m\u001b[32m~/equal1/equal1-benchmarking/.venv/lib/python3.13/site-packages/qbraid/runtime/job.py:91\u001b[39m, in \u001b[36mQuantumJob.wait_for_final_state\u001b[39m\u001b[34m(self, timeout, poll_interval)\u001b[39m\n\u001b[32m     89\u001b[39m \u001b[38;5;28;01mif\u001b[39;00m timeout \u001b[38;5;129;01mis\u001b[39;00m \u001b[38;5;129;01mnot\u001b[39;00m \u001b[38;5;28;01mNone\u001b[39;00m \u001b[38;5;129;01mand\u001b[39;00m elapsed_time >= timeout:\n\u001b[32m     90\u001b[39m     \u001b[38;5;28;01mraise\u001b[39;00m \u001b[38;5;167;01mTimeoutError\u001b[39;00m(\u001b[33mf\u001b[39m\u001b[33m\"\u001b[39m\u001b[33mTimeout while waiting for job \u001b[39m\u001b[38;5;132;01m{\u001b[39;00m\u001b[38;5;28mself\u001b[39m.id\u001b[38;5;132;01m}\u001b[39;00m\u001b[33m.\u001b[39m\u001b[33m\"\u001b[39m)\n\u001b[32m---> \u001b[39m\u001b[32m91\u001b[39m \u001b[43msleep\u001b[49m\u001b[43m(\u001b[49m\u001b[43mpoll_interval\u001b[49m\u001b[43m)\u001b[49m\n",
      "\u001b[31mKeyboardInterrupt\u001b[39m: "
     ]
    }
   ],
   "source": [
    "results = []\n",
    "\n",
    "for t1_experiment, t2_experiment in tqdm(zip(all_experiments_t1, all_experiments_t2)):\n",
    "    assert t1_experiment.device_name == t2_experiment.device_name\n",
    "    assert t1_experiment.qubit_idx == t2_experiment.qubit_idx\n",
    "\n",
    "    device_name = t1_experiment.device_name\n",
    "    qubit_idx = t1_experiment.qubit_idx\n",
    "\n",
    "    t1_experiment.run(\n",
    "        simulate=True,\n",
    "        runtime_options={\n",
    "            \"backend\": \"TensorNet_MPS\",\n",
    "            \"simulation_platform\": \"GPU\",\n",
    "        },\n",
    "    )\n",
    "    t1 = t1_experiment.analyse_results()\n",
    "\n",
    "    t2_experiment.run(\n",
    "        simulate=True,\n",
    "        runtime_options={\n",
    "            \"backend\": \"TensorNet_MPS\",\n",
    "            \"simulation_platform\": \"GPU\",\n",
    "        },\n",
    "    )\n",
    "    t2 = t2_experiment.analyse_results()\n",
    "\n",
    "    results.append(\n",
    "        {\n",
    "            \"device\": device_name,\n",
    "            \"qubit_idx\": qubit_idx,\n",
    "            \"t1\": t1,\n",
    "            \"t2\": t2,\n",
    "        }\n",
    "    )"
   ]
  },
  {
   "cell_type": "code",
   "execution_count": null,
   "id": "2fd0e068",
   "metadata": {},
   "outputs": [],
   "source": [
    "df = pd.DataFrame(results)\n",
    "df.to_csv(\"t1_t2_results.csv\", index=False)"
   ]
  },
  {
   "cell_type": "code",
   "execution_count": null,
   "id": "7dec58d8",
   "metadata": {},
   "outputs": [],
   "source": [
    "fig, ax = plt.subplots(figsize=(24, 6))\n",
    "sns.barplot(data=df, x=\"qubit_idx\", y=\"t1\", hue=\"device\", ax=ax)\n",
    "ax.set_title(\"T1 Time by Qubit and Device\")\n",
    "ax.set_ylabel(\"T1 Time (s)\")\n",
    "ax.set_xlabel(\"Qubit Index\")\n",
    "ax.legend(title=\"Device\")"
   ]
  },
  {
   "cell_type": "code",
   "execution_count": null,
   "id": "cf12de01",
   "metadata": {},
   "outputs": [],
   "source": [
    "fig, ax = plt.subplots(figsize=(24, 6))\n",
    "sns.barplot(data=df, x=\"qubit_idx\", y=\"t2\", hue=\"device\", ax=ax)\n",
    "ax.set_title(\"T2 Time by Qubit and Device\")\n",
    "ax.set_ylabel(\"T2 Time (s)\")\n",
    "ax.set_xlabel(\"Qubit Index\")\n",
    "ax.legend(title=\"Device\")"
   ]
  }
 ],
 "metadata": {
  "kernelspec": {
   "display_name": "equal1-benchmarking",
   "language": "python",
   "name": "python3"
  },
  "language_info": {
   "codemirror_mode": {
    "name": "ipython",
    "version": 3
   },
   "file_extension": ".py",
   "mimetype": "text/x-python",
   "name": "python",
   "nbconvert_exporter": "python",
   "pygments_lexer": "ipython3",
   "version": "3.13.8"
  }
 },
 "nbformat": 4,
 "nbformat_minor": 5
}
