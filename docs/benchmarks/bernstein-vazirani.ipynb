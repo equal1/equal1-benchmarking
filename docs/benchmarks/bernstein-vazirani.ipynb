{
 "cells": [
  {
   "cell_type": "markdown",
   "id": "eefa6199",
   "metadata": {},
   "source": [
    "# The Bernstein Vazirani problem "
   ]
  },
  {
   "cell_type": "code",
   "execution_count": null,
   "id": "b8e1190e",
   "metadata": {},
   "outputs": [],
   "source": [
    "import matplotlib.pyplot as plt \n",
    "from equal1.benchmarking.algorithms import deutschjozsa \n",
    "import numpy as np\n",
    "import pandas as pd\n",
    "import seaborn as sns"
   ]
  },
  {
   "cell_type": "code",
   "execution_count": null,
   "id": "6b8ad53e",
   "metadata": {},
   "outputs": [],
   "source": [
    "hardware = {'hpc-conservative':\"Current Device extrapolated\", 'hpc-gamma1': \"32 Qubit QPU\", 'hpc-gamma2': \"167 Qubit QPU\"}"
   ]
  },
  {
   "cell_type": "code",
   "execution_count": null,
   "id": "48c14b5e",
   "metadata": {},
   "outputs": [],
   "source": [
    "all_experiments = [deutschjozsa.BernsteinVazirani(n_qubits=n_q, device_name=hw, number_of_random_strings_to_test = min(2**n_q, 10), rng=7331) for n_q in range(3, 21, 2) for hw in hardware.keys()]\n",
    "results = []\n",
    "for individual in all_experiments:\n",
    "    individual.run(simulate=True,  runtime_options={\"backend\":\"TensorNet_MPS\", \"simulation_platform\":\"GPU\"})\n",
    "    individual.collect_results()\n",
    "    anal = individual.analyse_results()\n",
    "    # print(anal)\n",
    "    for state, value in anal.items():\n",
    "        row = {\"n_qubits\": individual.n_qubits, \"device\": individual.device_name, \"state\": int(state,2), \"probability\": value}\n",
    "        results.append(row)\n",
    "    print(f\"Running for {individual.n_qubits} qubits {individual.device_name}, results: {anal}\")\n",
    "\n"
   ]
  },
  {
   "cell_type": "code",
   "execution_count": null,
   "id": "67cba550",
   "metadata": {},
   "outputs": [],
   "source": [
    "df = pd.DataFrame.from_dict(results)\n",
    "df.to_csv(\"bernstein_vazirani.csv\")"
   ]
  },
  {
   "cell_type": "code",
   "execution_count": null,
   "id": "41847f64",
   "metadata": {},
   "outputs": [],
   "source": [
    "fig, ax = plt.subplots(figsize=(6,6))\n",
    "df[\"label\"] = df[\"device\"].map(hardware)\n",
    "sns.lineplot(data=df, x=\"n_qubits\", y=\"probability\", hue=\"label\", ax=ax)\n",
    "ax.set_ylim(0, 1)\n",
    "ax.grid(True)\n",
    "ax.set_ylabel(\"Probability of measuring the hidden string\")\n",
    "ax.set_xlabel(\"Number of Qubits\")\n",
    "ax.legend(title=\"Simulated Devices\")\n",
    "ax.set_title(\"Bernstein-Vazirani Problem Performance\")\n"
   ]
  },
  {
   "cell_type": "code",
   "execution_count": null,
   "id": "6be4cb61",
   "metadata": {},
   "outputs": [],
   "source": []
  },
  {
   "cell_type": "code",
   "execution_count": null,
   "id": "da3191a0",
   "metadata": {},
   "outputs": [],
   "source": []
  }
 ],
 "metadata": {
  "kernelspec": {
   "display_name": "equal1-benchmarking",
   "language": "python",
   "name": "python3"
  },
  "language_info": {
   "codemirror_mode": {
    "name": "ipython",
    "version": 3
   },
   "file_extension": ".py",
   "mimetype": "text/x-python",
   "name": "python",
   "nbconvert_exporter": "python",
   "pygments_lexer": "ipython3",
   "version": "3.13.1"
  }
 },
 "nbformat": 4,
 "nbformat_minor": 5
}
