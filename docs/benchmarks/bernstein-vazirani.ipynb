{
 "cells": [
  {
   "cell_type": "markdown",
   "id": "eefa6199",
   "metadata": {},
   "source": [
    "# The Bernstein Vazirani problem "
   ]
  },
  {
   "cell_type": "code",
   "execution_count": null,
   "id": "b8e1190e",
   "metadata": {},
   "outputs": [],
   "source": [
    "import matplotlib.pyplot as plt \n",
    "from equal1.benchmarking.algorithms import deutschjozsa "
   ]
  },
  {
   "cell_type": "code",
   "execution_count": null,
   "id": "48c14b5e",
   "metadata": {},
   "outputs": [],
   "source": [
    "bv_experiment = deutschjozsa.BernsteinVazirani(\n",
    "    5,\n",
    "    device_name=\"bell1-6\",\n",
    "    strings_to_test=[\"11010\", \"00110\"],\n",
    "    runtime_options={\"simulation_platform\": \"CPU\"},\n",
    ")"
   ]
  },
  {
   "cell_type": "code",
   "execution_count": null,
   "id": "41847f64",
   "metadata": {},
   "outputs": [],
   "source": [
    "bv_experiment.circuits[1].draw(\"mpl\")"
   ]
  },
  {
   "cell_type": "code",
   "execution_count": null,
   "id": "419acfb8",
   "metadata": {},
   "outputs": [],
   "source": [
    "bv_experiment.run(simulate=True)"
   ]
  },
  {
   "cell_type": "code",
   "execution_count": null,
   "id": "1b853d14",
   "metadata": {},
   "outputs": [],
   "source": [
    "bv_experiment.analyse_results()"
   ]
  },
  {
   "cell_type": "code",
   "execution_count": null,
   "id": "a42f5566",
   "metadata": {},
   "outputs": [],
   "source": [
    "fig, ax = plt.subplots(1, 2, figsize=(10, 5), constrained_layout=True)\n",
    "bv_experiment.plot_graph(ax[0], bv_experiment.hidden_strings[0])\n",
    "bv_experiment.plot_graph(ax[1], bv_experiment.hidden_strings[1])\n"
   ]
  },
  {
   "cell_type": "code",
   "execution_count": null,
   "id": "6be4cb61",
   "metadata": {},
   "outputs": [],
   "source": []
  }
 ],
 "metadata": {
  "kernelspec": {
   "display_name": "equal1-benchmarking",
   "language": "python",
   "name": "python3"
  },
  "language_info": {
   "codemirror_mode": {
    "name": "ipython",
    "version": 3
   },
   "file_extension": ".py",
   "mimetype": "text/x-python",
   "name": "python",
   "nbconvert_exporter": "python",
   "pygments_lexer": "ipython3",
   "version": "3.13.1"
  }
 },
 "nbformat": 4,
 "nbformat_minor": 5
}
