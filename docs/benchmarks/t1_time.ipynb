{
 "cells": [
  {
   "cell_type": "markdown",
   "id": "eefa6199",
   "metadata": {},
   "source": [
    "# T1 Time"
   ]
  },
  {
   "cell_type": "code",
   "execution_count": null,
   "id": "b8e1190e",
   "metadata": {},
   "outputs": [],
   "source": [
    "import matplotlib.pyplot as plt\n",
    "from equal1.benchmarking.device_characterization import thermal_noise\n",
    "import pandas as pd\n",
    "import seaborn as sns\n",
    "from rich import progress"
   ]
  },
  {
   "cell_type": "code",
   "execution_count": null,
   "id": "6b8ad53e",
   "metadata": {},
   "outputs": [],
   "source": [
    "hardware = [\n",
    "    \"hpc-conservative\",\n",
    "    \"hpc-gamma1\",\n",
    "]\n",
    "num_qubits = 16"
   ]
  },
  {
   "cell_type": "code",
   "execution_count": null,
   "id": "869d8c39",
   "metadata": {},
   "outputs": [],
   "source": [
    "all_experiments_t1 = [\n",
    "    thermal_noise.IdleNoiseT1(device_name=device, qubit_idx=qubit)\n",
    "    for device in hardware\n",
    "    for qubit in range(num_qubits)\n",
    "]\n",
    "\n"
   ]
  },
  {
   "cell_type": "code",
   "execution_count": null,
   "id": "e46c09da",
   "metadata": {},
   "outputs": [],
   "source": [
    "results = []\n",
    "\n",
    "for t1_experiment in progress.track(all_experiments_t1):\n",
    "\n",
    "    device_name = t1_experiment.device_name\n",
    "    qubit_idx = t1_experiment.qubit_idx\n",
    "\n",
    "    t1_experiment.run(\n",
    "        simulate=True,\n",
    "    )\n",
    "    t1 = t1_experiment.analyse_results()\n",
    "\n",
    "    results.append(\n",
    "        {\n",
    "            \"device\": device_name,\n",
    "            \"qubit_idx\": qubit_idx,\n",
    "            \"t1\": t1,\n",
    "        }\n",
    "    )"
   ]
  },
  {
   "cell_type": "code",
   "execution_count": null,
   "id": "2fd0e068",
   "metadata": {},
   "outputs": [],
   "source": [
    "df = pd.DataFrame(results)\n",
    "df.to_csv(\"t1_results.csv\", index=False)"
   ]
  },
  {
   "cell_type": "code",
   "execution_count": null,
   "id": "7dec58d8",
   "metadata": {},
   "outputs": [],
   "source": [
    "fig, ax = plt.subplots(figsize=(24, 6))\n",
    "sns.barplot(data=df, x=\"qubit_idx\", hue=\"device\", y=\"t1\", ax=ax)\n",
    "ax.set_ylabel(\"T1 Time (s)\")\n",
    "ax.set_xlabel(\"Qubit Index\")"
   ]
  },
  {
   "cell_type": "code",
   "execution_count": null,
   "id": "cf12de01",
   "metadata": {},
   "outputs": [],
   "source": []
  }
 ],
 "metadata": {
  "kernelspec": {
   "display_name": "equal1-benchmarking",
   "language": "python",
   "name": "python3"
  },
  "language_info": {
   "codemirror_mode": {
    "name": "ipython",
    "version": 3
   },
   "file_extension": ".py",
   "mimetype": "text/x-python",
   "name": "python",
   "nbconvert_exporter": "python",
   "pygments_lexer": "ipython3",
   "version": "3.13.1"
  }
 },
 "nbformat": 4,
 "nbformat_minor": 5
}
