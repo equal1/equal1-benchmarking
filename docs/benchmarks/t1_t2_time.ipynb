{
 "cells": [
  {
   "cell_type": "markdown",
   "id": "eefa6199",
   "metadata": {},
   "source": [
    "#  T1 and T2 Time"
   ]
  },
  {
   "cell_type": "code",
   "execution_count": null,
   "id": "b8e1190e",
   "metadata": {},
   "outputs": [],
   "source": [
    "import matplotlib.pyplot as plt\n",
    "from equal1.benchmarking.device_characterization import thermal_noise\n",
    "import pandas as pd\n",
    "import seaborn as sns\n",
    "from tqdm import tqdm"
   ]
  },
  {
   "cell_type": "code",
   "execution_count": null,
   "id": "6b8ad53e",
   "metadata": {},
   "outputs": [],
   "source": [
    "hardware = {\n",
    "    \"hpc-conservative\": 32,\n",
    "    \"hpc-gamma1\": 32,\n",
    "    \"hpc-gamma2\": 32,\n",
    "}"
   ]
  },
  {
   "cell_type": "code",
   "execution_count": null,
   "id": "869d8c39",
   "metadata": {},
   "outputs": [],
   "source": [
    "all_experiments_t1 = [\n",
    "    thermal_noise.IdleNoiseT1(device_name=device, qubit_idx=qubit)\n",
    "    for device, num_qubits in hardware.items()\n",
    "    for qubit in range(num_qubits)\n",
    "]\n",
    "\n",
    "all_experiments_t2 = [\n",
    "    thermal_noise.ThermalNoiseT2Ramsey(device_name=device, qubit_idx=qubit)\n",
    "    for device, num_qubits in hardware.items()\n",
    "    for qubit in range(num_qubits)\n",
    "]"
   ]
  },
  {
   "cell_type": "code",
   "execution_count": null,
   "id": "e46c09da",
   "metadata": {},
   "outputs": [],
   "source": [
    "results = []\n",
    "\n",
    "for t1_experiment, t2_experiment in tqdm(zip(all_experiments_t1, all_experiments_t2)):\n",
    "    assert t1_experiment.device_name == t2_experiment.device_name\n",
    "    assert t1_experiment.qubit_idx == t2_experiment.qubit_idx\n",
    "\n",
    "    device_name = t1_experiment.device_name\n",
    "    qubit_idx = t1_experiment.qubit_idx\n",
    "\n",
    "    t1_experiment.run(\n",
    "        simulate=True,\n",
    "        runtime_options={\n",
    "            \"backend\": \"TensorNet_MPS\",\n",
    "            \"simulation_platform\": \"GPU\",\n",
    "        },\n",
    "    )\n",
    "    t1 = t1_experiment.analyse_results()\n",
    "\n",
    "    t2_experiment.run(\n",
    "        simulate=True,\n",
    "        runtime_options={\n",
    "            \"backend\": \"TensorNet_MPS\",\n",
    "            \"simulation_platform\": \"GPU\",\n",
    "        },\n",
    "    )\n",
    "    t2 = t2_experiment.analyse_results()\n",
    "\n",
    "    results.append(\n",
    "        {\n",
    "            \"device\": device_name,\n",
    "            \"qubit_idx\": qubit_idx,\n",
    "            \"t1\": t1,\n",
    "            \"t2\": t2,\n",
    "        }\n",
    "    )"
   ]
  },
  {
   "cell_type": "code",
   "execution_count": null,
   "id": "2fd0e068",
   "metadata": {},
   "outputs": [],
   "source": [
    "df = pd.DataFrame(results)\n",
    "\n",
    "device_groups = {device: group for device, group in df.groupby(\"device\")}\n",
    "\n",
    "for device, group in device_groups.items():\n",
    "    group.to_csv(f\"t1_t2_results_{device}.csv\", index=False)"
   ]
  },
  {
   "cell_type": "code",
   "execution_count": null,
   "id": "7dec58d8",
   "metadata": {},
   "outputs": [],
   "source": [
    "for device, group in device_groups.items():\n",
    "    fig, ax = plt.subplots(figsize=(24, 6))\n",
    "    sns.barplot(data=group, x=\"qubit_idx\", y=\"t1\", ax=ax)\n",
    "    ax.set_title(f\"T1 Time by Qubit - {device}\")\n",
    "    ax.set_ylabel(\"T1 Time (s)\")\n",
    "    ax.set_xlabel(\"Qubit Index\")"
   ]
  },
  {
   "cell_type": "code",
   "execution_count": null,
   "id": "cf12de01",
   "metadata": {},
   "outputs": [],
   "source": [
    "for device, group in device_groups.items():\n",
    "    fig, ax = plt.subplots(figsize=(24, 6))\n",
    "    sns.barplot(data=group, x=\"qubit_idx\", y=\"t2\", ax=ax)\n",
    "    ax.set_title(f\"T2 Time by Qubit - {device}\")\n",
    "    ax.set_ylabel(\"T2 Time (s)\")\n",
    "    ax.set_xlabel(\"Qubit Index\")"
   ]
  }
 ],
 "metadata": {
  "kernelspec": {
   "display_name": "equal1-benchmarking",
   "language": "python",
   "name": "python3"
  },
  "language_info": {
   "codemirror_mode": {
    "name": "ipython",
    "version": 3
   },
   "file_extension": ".py",
   "mimetype": "text/x-python",
   "name": "python",
   "nbconvert_exporter": "python",
   "pygments_lexer": "ipython3",
   "version": "3.13.8"
  }
 },
 "nbformat": 4,
 "nbformat_minor": 5
}
