{
 "cells": [
  {
   "cell_type": "markdown",
   "id": "418fe03e",
   "metadata": {},
   "source": [
    "# Gate Fidelity Benchmarking"
   ]
  },
  {
   "cell_type": "code",
   "execution_count": null,
   "id": "4ba8aed6",
   "metadata": {},
   "outputs": [],
   "source": [
    "import matplotlib.pyplot as plt\n",
    "from equal1.benchmarking.device_characterization.gate_fidelity import Gate1qFidelity\n",
    "import pandas as pd\n",
    "import seaborn as sns\n",
    "from rich import progress"
   ]
  },
  {
   "cell_type": "code",
   "execution_count": null,
   "id": "1a69e123",
   "metadata": {},
   "outputs": [],
   "source": [
    "hardware = {\n",
    "    \"hpc-conservative\",\n",
    "    \"hpc-gamma1\",\n",
    "    \"hpc-gamma2\",\n",
    "}\n",
    "num_qubits = 16"
   ]
  },
  {
   "cell_type": "markdown",
   "id": "83aff08a",
   "metadata": {},
   "source": [
    "## Single-Qubit Gates Fidelity"
   ]
  },
  {
   "cell_type": "code",
   "execution_count": null,
   "id": "e6ce753f",
   "metadata": {},
   "outputs": [],
   "source": [
    "gates_to_benchmark = [\"x\", \"sx\"]\n",
    "\n",
    "experiments = [\n",
    "    Gate1qFidelity(device_name=hw, qubit_idx=q, gate_to_benchmark=g)\n",
    "    for hw in hardware\n",
    "    for q in range(num_qubits)\n",
    "    for g in gates_to_benchmark\n",
    "]"
   ]
  },
  {
   "cell_type": "code",
   "execution_count": null,
   "id": "b5e1e00d",
   "metadata": {},
   "outputs": [],
   "source": [
    "results = []\n",
    "\n",
    "for experiment in progress.track(\n",
    "    experiments, description=\"Running Experiments\", auto_refresh=False\n",
    "):\n",
    "    experiment.run(\n",
    "        simulate=True,\n",
    "        runtime_options={\n",
    "            \"backend\": \"TensorNet_MPS\",\n",
    "            \"simulation_platform\": \"GPU\",\n",
    "        },\n",
    "    )\n",
    "\n",
    "    fidelity = experiment.analyse_results()\n",
    "\n",
    "    results.append(\n",
    "        {\n",
    "            \"device\": experiment.device_name,\n",
    "            \"qubit_idx\": experiment.qubit_idx,\n",
    "            \"gate_name\": experiment.gate_to_benchmark.name,\n",
    "            \"fidelity\": fidelity,\n",
    "        }\n",
    "    )"
   ]
  },
  {
   "cell_type": "code",
   "execution_count": null,
   "id": "c6e23aa0",
   "metadata": {},
   "outputs": [],
   "source": [
    "df = pd.DataFrame(results)\n",
    "df.to_csv(\"single_qubit_gate_fidelity_results.csv\", index=False)"
   ]
  },
  {
   "cell_type": "code",
   "execution_count": null,
   "id": "e518b8f0",
   "metadata": {},
   "outputs": [],
   "source": [
    "for device in df[\"device\"].unique():\n",
    "    fig, ax = plt.subplots(figsize=(24, 6))\n",
    "    sns.barplot(\n",
    "        data=df[df[\"device\"] == device],\n",
    "        x=\"qubit_idx\",\n",
    "        hue=\"gate_name\",\n",
    "        y=\"fidelity\",\n",
    "        ax=ax,\n",
    "    )\n",
    "    ax.set_ylabel(\"Gate Fidelity\")\n",
    "    ax.set_xlabel(\"Qubit Index\")\n",
    "    for container in ax.containers:\n",
    "        ax.bar_label(container, fmt=\"%.5f\")\n",
    "    ax.set_title(f\"Single Qubit Gate Fidelity on {device}\")\n",
    "    plt.show()"
   ]
  }
 ],
 "metadata": {
  "kernelspec": {
   "display_name": "equal1-benchmarking",
   "language": "python",
   "name": "python3"
  },
  "language_info": {
   "codemirror_mode": {
    "name": "ipython",
    "version": 3
   },
   "file_extension": ".py",
   "mimetype": "text/x-python",
   "name": "python",
   "nbconvert_exporter": "python",
   "pygments_lexer": "ipython3",
   "version": "3.13.8"
  }
 },
 "nbformat": 4,
 "nbformat_minor": 5
}
