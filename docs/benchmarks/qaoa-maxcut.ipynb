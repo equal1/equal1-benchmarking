{
 "cells": [
  {
   "cell_type": "markdown",
   "id": "f181d474",
   "metadata": {},
   "source": [
    "# QScore: Solving MaxCut with QAOA "
   ]
  },
  {
   "cell_type": "code",
   "execution_count": null,
   "id": "c227c6ab",
   "metadata": {},
   "outputs": [],
   "source": [
    "import numpy as np\n",
    "import pandas as pd\n",
    "import matplotlib.pyplot as plt\n",
    "import networkx as nx\n",
    "import seaborn as sns\n",
    "\n",
    "from equal1.benchmarking.algorithms import qaoa_maxcut\n",
    "from networkx.algorithms.approximation.maxcut import one_exchange as guess_the_maxcut_solution\n"
   ]
  },
  {
   "cell_type": "markdown",
   "id": "39a39676",
   "metadata": {},
   "source": [
    "We use the QScore methodology to evaluate the performance of our QAOA implementation.\n",
    "\n",
    "QScore is implemented by TNO [https://github.com/TNO-Quantum/qscore](https://github.com/TNO-Quantum/qscore).  Later we will try to integrate directly with the QScore project, but for now we just use the same methodology. \n",
    "We have copied over the function to compute the $\\beta$ metric for MaxCut from their repository."
   ]
  },
  {
   "cell_type": "markdown",
   "id": "1fd0b850",
   "metadata": {},
   "source": [
    "Graphs are Erdos-Renyi random graphs with edge probability 0.5. \n",
    "We run QAOA with 2 layers on graphs of size 4 to 10."
   ]
  },
  {
   "cell_type": "code",
   "execution_count": null,
   "id": "851376a6",
   "metadata": {},
   "outputs": [],
   "source": [
    "graph = nx.erdos_renyi_graph(n=5, p=0.5,seed=87008)\n",
    "nx.draw(graph, with_labels=True)\n"
   ]
  },
  {
   "cell_type": "code",
   "execution_count": null,
   "id": "a3417770",
   "metadata": {},
   "outputs": [],
   "source": [
    "guess_the_maxcut_solution(graph)"
   ]
  },
  {
   "cell_type": "markdown",
   "id": "dd90f8be",
   "metadata": {},
   "source": [
    "The QAI implementation is textbook, later we might use more recent approaches. "
   ]
  },
  {
   "cell_type": "code",
   "execution_count": null,
   "id": "35997f6f",
   "metadata": {},
   "outputs": [],
   "source": [
    "qaoa_maxcut.make_qaoa_maxcut_circuit(graph, layers=1).draw('mpl', fold=100)"
   ]
  },
  {
   "cell_type": "markdown",
   "id": "1333e0ef",
   "metadata": {},
   "source": [
    "## Run the Benchmark"
   ]
  },
  {
   "cell_type": "code",
   "execution_count": null,
   "id": "142ca9ed",
   "metadata": {},
   "outputs": [],
   "source": [
    "rng = np.random.default_rng()\n",
    "all_results=[]\n",
    "for device in [\"hpc-gamma1\", \"hpc-conservative\"]:\n",
    "    results = qaoa_maxcut.compute_qscore(\n",
    "        device,\n",
    "        sizes=[4, 5, 6, 8, 10, 12],\n",
    "        replicates=100,\n",
    "        executor=lambda c: qaoa_maxcut.run_on_qbraid(c, device),\n",
    "        layers=2,\n",
    "        seed=int(rng.integers(0, 1000000000,1)[0]),\n",
    "    )\n",
    "    all_results.extend(results)\n",
    "df = pd.DataFrame.from_dict(all_results)\n",
    "df.to_csv(f\"qaoa_maxcut.csv\")\n"
   ]
  },
  {
   "cell_type": "code",
   "execution_count": null,
   "id": "2e080ad7",
   "metadata": {},
   "outputs": [],
   "source": [
    "results_df = pd.read_csv(\"qaoa_maxcut.csv\", index_col=0, comment='#')\n",
    "results_df"
   ]
  },
  {
   "cell_type": "code",
   "execution_count": null,
   "id": "95bfd138",
   "metadata": {},
   "outputs": [],
   "source": [
    "fig, ax = plt.subplots(figsize=(8, 6))\n",
    "sns.lineplot(\n",
    "    data=results_df,\n",
    "    x=\"graph_size\",\n",
    "    y=\"beta\",\n",
    "    hue=\"device\",\n",
    "    marker=\"o\",\n",
    "    ax=ax,\n",
    "    errorbar='sd',\n",
    ")\n",
    "sns.scatterplot(\n",
    "    data=df,\n",
    "    x=\"graph_size\",\n",
    "    y=\"beta\",\n",
    "    hue=\"device\",\n",
    "    marker=\"o\",\n",
    "    s=20,\n",
    "    ax=ax,\n",
    "    legend=False,\n",
    "    edgecolor=\"none\"\n",
    ")\n",
    "\n",
    "\n",
    "ax.axhline(1.0, color='gray', linestyle='--')#, label='Perfect Solution')\n",
    "ax.axhline(0.2, color='red', linestyle='--', label='$\\\\beta^*$ = 0.2')\n",
    "ax.axhline(0.0, color='gray', linestyle='--')#, label='Random Sampling')\n",
    "ax.legend(title=\"Device\")\n",
    "ax.set_xlabel(\"Graph Size (Number of Nodes)\")\n",
    "ax.set_ylabel(\"$\\\\beta(n)$\")"
   ]
  },
  {
   "cell_type": "code",
   "execution_count": null,
   "id": "94a9df5b",
   "metadata": {},
   "outputs": [],
   "source": [
    "results_df.groupby([\"device\", \"graph_size\"]).size()\n"
   ]
  },
  {
   "cell_type": "code",
   "execution_count": null,
   "id": "88b70ccb",
   "metadata": {},
   "outputs": [],
   "source": []
  }
 ],
 "metadata": {
  "kernelspec": {
   "display_name": "equal1-benchmarking",
   "language": "python",
   "name": "python3"
  },
  "language_info": {
   "codemirror_mode": {
    "name": "ipython",
    "version": 3
   },
   "file_extension": ".py",
   "mimetype": "text/x-python",
   "name": "python",
   "nbconvert_exporter": "python",
   "pygments_lexer": "ipython3",
   "version": "3.13.1"
  }
 },
 "nbformat": 4,
 "nbformat_minor": 5
}
