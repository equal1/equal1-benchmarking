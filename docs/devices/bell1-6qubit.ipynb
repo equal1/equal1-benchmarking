{
 "cells": [
  {
   "cell_type": "markdown",
   "id": "51c4d31b",
   "metadata": {},
   "source": [
    "# Benchmarking the Bell1 6-Qubit Device"
   ]
  },
  {
   "cell_type": "markdown",
   "id": "2a47179b",
   "metadata": {},
   "source": [
    "## Qubit Quality and Coherence"
   ]
  },
  {
   "cell_type": "code",
   "execution_count": null,
   "id": "573e477c",
   "metadata": {
    "vscode": {
     "languageId": "plaintext"
    }
   },
   "outputs": [],
   "source": [
    "### Qubit individual addressability (Rabi oscillations)"
   ]
  },
  {
   "cell_type": "code",
   "execution_count": null,
   "id": "36721d63",
   "metadata": {
    "vscode": {
     "languageId": "plaintext"
    }
   },
   "outputs": [],
   "source": [
    "### T1 and T2 times"
   ]
  },
  {
   "cell_type": "code",
   "execution_count": null,
   "id": "49554300",
   "metadata": {
    "vscode": {
     "languageId": "plaintext"
    }
   },
   "outputs": [],
   "source": [
    "### 1 Qubit Randomized Benchmarking"
   ]
  },
  {
   "cell_type": "code",
   "execution_count": null,
   "id": "ef795d35",
   "metadata": {
    "vscode": {
     "languageId": "plaintext"
    }
   },
   "outputs": [],
   "source": [
    "### 2 Qubit Randomized Benchmarking"
   ]
  },
  {
   "cell_type": "markdown",
   "id": "863d00c7",
   "metadata": {},
   "source": [
    "## Applications"
   ]
  },
  {
   "cell_type": "markdown",
   "id": "fa3c690e",
   "metadata": {},
   "source": [
    "### GHZ State Preparation"
   ]
  },
  {
   "cell_type": "markdown",
   "id": "78106f56",
   "metadata": {},
   "source": [
    "### QScore: QAOA for MAX-CUT"
   ]
  },
  {
   "cell_type": "markdown",
   "id": "b9bae44d",
   "metadata": {},
   "source": [
    "### Bernstein-Vazirani Problem"
   ]
  },
  {
   "cell_type": "markdown",
   "id": "59fa8d8e",
   "metadata": {},
   "source": [
    "## External Benchmarks"
   ]
  },
  {
   "cell_type": "markdown",
   "id": "ce417d58",
   "metadata": {},
   "source": [
    "### CLOPS Benchmark\n"
   ]
  },
  {
   "cell_type": "markdown",
   "id": "e59e6139",
   "metadata": {},
   "source": [
    "### Application Oriented Benchmarking"
   ]
  },
  {
   "cell_type": "markdown",
   "id": "b2a4d02a",
   "metadata": {},
   "source": []
  }
 ],
 "metadata": {
  "language_info": {
   "name": "python"
  }
 },
 "nbformat": 4,
 "nbformat_minor": 5
}
