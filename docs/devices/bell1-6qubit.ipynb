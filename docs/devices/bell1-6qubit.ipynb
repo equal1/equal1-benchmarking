{
 "cells": [
  {
   "cell_type": "markdown",
   "id": "51c4d31b",
   "metadata": {},
   "source": [
    "# Benchmarking the Bell1 6-Qubit Device"
   ]
  }
 ],
 "metadata": {
  "language_info": {
   "name": "python"
  }
 },
 "nbformat": 4,
 "nbformat_minor": 5
}
