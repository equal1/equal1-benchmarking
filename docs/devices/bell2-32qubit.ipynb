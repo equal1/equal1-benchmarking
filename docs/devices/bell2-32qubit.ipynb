{
 "cells": [
  {
   "cell_type": "markdown",
   "id": "dd1ff68d",
   "metadata": {},
   "source": [
    "# Benchmarking the Bell2 32-Qubit Device"
   ]
  },
  {
   "cell_type": "markdown",
   "id": "37ee2bf7",
   "metadata": {},
   "source": []
  }
 ],
 "metadata": {
  "language_info": {
   "name": "python"
  }
 },
 "nbformat": 4,
 "nbformat_minor": 5
}
